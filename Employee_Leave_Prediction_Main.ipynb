{
 "cells": [
  {
   "cell_type": "code",
   "execution_count": null,
<<<<<<< HEAD
   "id": "8a3fdbf5-ea36-48a5-a098-dce466184a92",
   "metadata": {},
   "outputs": [],
   "source": [
    "import matplotlib.pyplot as plt\n",
    "import pandas as pd\n",
    "import scipy.stats as st \n",
    "import pprint as ppy\n"
   ]
=======
   "id": "641f64c5-a064-4c23-bcd1-3e32b81a1cdd",
   "metadata": {},
   "outputs": [],
   "source": []
>>>>>>> 07cad0d12da1e9b518f662e000f62df4cf8d1ad8
  }
 ],
 "metadata": {
  "kernelspec": {
   "display_name": "Python 3 (ipykernel)",
   "language": "python",
   "name": "python3"
  },
  "language_info": {
   "codemirror_mode": {
    "name": "ipython",
    "version": 3
   },
   "file_extension": ".py",
   "mimetype": "text/x-python",
   "name": "python",
   "nbconvert_exporter": "python",
   "pygments_lexer": "ipython3",
<<<<<<< HEAD
   "version": "3.10.15"
=======
   "version": "3.10.14"
>>>>>>> 07cad0d12da1e9b518f662e000f62df4cf8d1ad8
  }
 },
 "nbformat": 4,
 "nbformat_minor": 5
}
